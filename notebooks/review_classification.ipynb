{
 "cells": [
  {
   "cell_type": "code",
   "execution_count": 30,
   "metadata": {},
   "outputs": [],
   "source": [
    "import pandas as pd"
   ]
  },
  {
   "cell_type": "code",
   "execution_count": 31,
   "metadata": {},
   "outputs": [],
   "source": [
    "sheet_id = \"1Wh3GdQuV18gdHGMD2WT9d8zUBEI-ixCn_xcswBY-kYU\"\n",
    "df = pd.read_csv(f\"https://docs.google.com/spreadsheets/d/{sheet_id}/export?format=csv\")"
   ]
  },
  {
   "cell_type": "code",
   "execution_count": 26,
   "metadata": {},
   "outputs": [],
   "source": [
    "# df.to_csv(\"/Users/muhammedlutfiturkcan/classification_review_as/input_data/input_data_26_11_24.csv\", index=False)\n",
    "# df = pd.read_csv(\"/Users/muhammedlutfiturkcan/classification_review_as/input_data/input_data_26_11_24.csv\")"
   ]
  },
  {
   "cell_type": "code",
   "execution_count": 36,
   "metadata": {},
   "outputs": [
    {
     "data": {
      "text/plain": [
       "(20001, 16)"
      ]
     },
     "execution_count": 36,
     "metadata": {},
     "output_type": "execute_result"
    }
   ],
   "source": [
    "df.shape"
   ]
  },
  {
   "cell_type": "code",
   "execution_count": 39,
   "metadata": {},
   "outputs": [
    {
     "data": {
      "text/plain": [
       "id                           0\n",
       "marketplace_id               0\n",
       "review_marketplace_id        0\n",
       "order_marketplace_id         1\n",
       "overall_rating               1\n",
       "flavor_rating               23\n",
       "service_rating              23\n",
       "driver_rating               23\n",
       "review_text                  1\n",
       "review_create_date           2\n",
       "insert_date                  2\n",
       "response_create_date     20001\n",
       "response_text            20001\n",
       "brand_kitchen_id             2\n",
       "order_create_date           25\n",
       "review_status                2\n",
       "dtype: int64"
      ]
     },
     "execution_count": 39,
     "metadata": {},
     "output_type": "execute_result"
    }
   ],
   "source": [
    "df.isnull().sum()"
   ]
  },
  {
   "cell_type": "code",
   "execution_count": 40,
   "metadata": {},
   "outputs": [
    {
     "data": {
      "text/html": [
       "<div>\n",
       "<style scoped>\n",
       "    .dataframe tbody tr th:only-of-type {\n",
       "        vertical-align: middle;\n",
       "    }\n",
       "\n",
       "    .dataframe tbody tr th {\n",
       "        vertical-align: top;\n",
       "    }\n",
       "\n",
       "    .dataframe thead th {\n",
       "        text-align: right;\n",
       "    }\n",
       "</style>\n",
       "<table border=\"1\" class=\"dataframe\">\n",
       "  <thead>\n",
       "    <tr style=\"text-align: right;\">\n",
       "      <th></th>\n",
       "      <th>id</th>\n",
       "      <th>marketplace_id</th>\n",
       "      <th>review_marketplace_id</th>\n",
       "      <th>order_marketplace_id</th>\n",
       "      <th>overall_rating</th>\n",
       "      <th>flavor_rating</th>\n",
       "      <th>service_rating</th>\n",
       "      <th>driver_rating</th>\n",
       "      <th>review_text</th>\n",
       "      <th>review_create_date</th>\n",
       "      <th>insert_date</th>\n",
       "      <th>response_create_date</th>\n",
       "      <th>response_text</th>\n",
       "      <th>brand_kitchen_id</th>\n",
       "      <th>order_create_date</th>\n",
       "      <th>review_status</th>\n",
       "    </tr>\n",
       "  </thead>\n",
       "  <tbody>\n",
       "    <tr>\n",
       "      <th>6700</th>\n",
       "      <td>Hiç mi utanmıyorsunuz bayat ürün vermekten?!\"</td>\n",
       "      <td>2024-07-27 14:47:55.205 +0300</td>\n",
       "      <td>2024-09-09 16:41:44.247 +0300</td>\n",
       "      <td>NaN</td>\n",
       "      <td>NaN</td>\n",
       "      <td>13.0</td>\n",
       "      <td>2024-07-25 16:34:05.340 +0300</td>\n",
       "      <td>Approved</td>\n",
       "      <td>NaN</td>\n",
       "      <td>NaN</td>\n",
       "      <td>NaN</td>\n",
       "      <td>NaN</td>\n",
       "      <td>NaN</td>\n",
       "      <td>NaN</td>\n",
       "      <td>NaN</td>\n",
       "      <td>NaN</td>\n",
       "    </tr>\n",
       "  </tbody>\n",
       "</table>\n",
       "</div>"
      ],
      "text/plain": [
       "                                                 id  \\\n",
       "6700  Hiç mi utanmıyorsunuz bayat ürün vermekten?!\"   \n",
       "\n",
       "                     marketplace_id          review_marketplace_id  \\\n",
       "6700  2024-07-27 14:47:55.205 +0300  2024-09-09 16:41:44.247 +0300   \n",
       "\n",
       "     order_marketplace_id  overall_rating  flavor_rating  \\\n",
       "6700                  NaN             NaN           13.0   \n",
       "\n",
       "                     service_rating driver_rating review_text  \\\n",
       "6700  2024-07-25 16:34:05.340 +0300      Approved         NaN   \n",
       "\n",
       "     review_create_date insert_date  response_create_date  response_text  \\\n",
       "6700                NaN         NaN                   NaN            NaN   \n",
       "\n",
       "      brand_kitchen_id order_create_date review_status  \n",
       "6700               NaN               NaN           NaN  "
      ]
     },
     "execution_count": 40,
     "metadata": {},
     "output_type": "execute_result"
    }
   ],
   "source": [
    "df[df.review_text.isnull() == True]"
   ]
  },
  {
   "cell_type": "code",
   "execution_count": null,
   "metadata": {},
   "outputs": [],
   "source": [
    "def num_tokens(string: str, encoding_name: str) -> int:\n",
    "    \"\"\"Returns the number of tokens in a text string.\"\"\"\n",
    "    encoding = tiktoken.encoding_for_model(\"gpt-3.5-turbo\")\n",
    "    num_tokens = len(encoding.encode(string))\n",
    "    return num_tokens"
   ]
  }
 ],
 "metadata": {
  "kernelspec": {
   "display_name": "myenv",
   "language": "python",
   "name": "python3"
  },
  "language_info": {
   "codemirror_mode": {
    "name": "ipython",
    "version": 3
   },
   "file_extension": ".py",
   "mimetype": "text/x-python",
   "name": "python",
   "nbconvert_exporter": "python",
   "pygments_lexer": "ipython3",
   "version": "3.9.12"
  },
  "orig_nbformat": 4,
  "vscode": {
   "interpreter": {
    "hash": "27e841fdcf51a57f6063a16c8775753a197b183fec5fe3a017e22d3652f7df32"
   }
  }
 },
 "nbformat": 4,
 "nbformat_minor": 2
}
